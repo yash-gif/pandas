{
 "cells": [
  {
   "cell_type": "markdown",
   "metadata": {},
   "source": [
    "# pandas introduction"
   ]
  },
  {
   "cell_type": "code",
   "execution_count": null,
   "metadata": {},
   "outputs": [],
   "source": [
    "# pandas is a powerful python data analysis toolkit. \n",
    "# open source \n",
    "# a fast and efficient dataframe object for data manupulation\n",
    "# reading and writing data structures and different formats : csv , tsv , txt , XML , JSON , ZIP etc.\n",
    "\n",
    "# pandas data structures : series , dataframe , panel\n",
    "# series : one dimensional label homogeneous data \n",
    "# dataframe : two dimensional labeled heterogeneously tabular structure \n",
    "# panel : three dimensional labeled array\n",
    "# data frame most common use data structure\n",
    "\n",
    "# numpy is used for the implemention of pandas "
   ]
  }
 ],
 "metadata": {
  "kernelspec": {
   "display_name": "Python 3",
   "language": "python",
   "name": "python3"
  },
  "language_info": {
   "codemirror_mode": {
    "name": "ipython",
    "version": 3
   },
   "file_extension": ".py",
   "mimetype": "text/x-python",
   "name": "python",
   "nbconvert_exporter": "python",
   "pygments_lexer": "ipython3",
   "version": "3.7.6"
  }
 },
 "nbformat": 4,
 "nbformat_minor": 4
}
